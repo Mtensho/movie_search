{
 "cells": [
  {
   "cell_type": "code",
   "execution_count": null,
   "metadata": {},
   "outputs": [],
   "source": [
    "from tensorflow import keras\n",
    "import torch\n",
    "from pymongo import MongoClient\n",
    "import numpy as np\n",
    "import pickle\n",
    "from bson.binary import Binary\n",
    "import numpy as np\n",
    "from tensorflow.keras import models\n",
    "from tensorflow.keras import layers\n",
    "import random\n",
    "\n",
    "client=MongoClient('127.0.0.1',27017) #ip, port\n",
    "db=client[\"review_data\"] #database name\n",
    "collection=db[\"combine_vector\"] #collection name\n",
    "collection2=db[\"test_vector\"] #collection name\n",
    "#query={} #if you want to use only some data in database, use query to find them\n",
    "cursor=collection.find({},{\"_id\":0,\"id\":1,\"attribute\":1,\"movie_id\":1,\"label\":1,\"vector\":1})\n",
    "list=[]\n",
    "for cur in cursor:\n",
    "    dic=cur\n",
    "    list.append(dic)\n",
    "random.shuffle(list)\n",
    "for now in list:\n",
    "    collection2.insert_one(now)"
   ]
  },
  {
   "cell_type": "code",
   "execution_count": null,
   "metadata": {},
   "outputs": [],
   "source": []
  }
 ],
 "metadata": {
  "kernelspec": {
   "display_name": "Python 3",
   "language": "python",
   "name": "python3"
  },
  "language_info": {
   "codemirror_mode": {
    "name": "ipython",
    "version": 3
   },
   "file_extension": ".py",
   "mimetype": "text/x-python",
   "name": "python",
   "nbconvert_exporter": "python",
   "pygments_lexer": "ipython3",
   "version": "3.6.13"
  }
 },
 "nbformat": 4,
 "nbformat_minor": 5
}
